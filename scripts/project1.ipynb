{
 "cells": [
  {
   "cell_type": "code",
   "execution_count": 50,
   "metadata": {},
   "outputs": [
    {
     "name": "stdout",
     "output_type": "stream",
     "text": [
      "The autoreload extension is already loaded. To reload it, use:\n",
      "  %reload_ext autoreload\n"
     ]
    }
   ],
   "source": [
    "# Useful starting lines\n",
    "%matplotlib inline\n",
    "import numpy as np\n",
    "import matplotlib.pyplot as plt\n",
    "#just for the notebook\n",
    "%run implementations\n",
    "%load_ext autoreload\n",
    "%autoreload 2"
   ]
  },
  {
   "cell_type": "markdown",
   "metadata": {},
   "source": [
    "## Load the training data into feature matrix, class labels, and event ids:"
   ]
  },
  {
   "cell_type": "code",
   "execution_count": 51,
   "metadata": {},
   "outputs": [],
   "source": [
    "from proj1_helpers import *\n",
    "DATA_TRAIN_PATH = '../data/train.csv' \n",
    "y, tX, ids = load_csv_data(DATA_TRAIN_PATH)\n"
   ]
  },
  {
   "cell_type": "code",
   "execution_count": 52,
   "metadata": {},
   "outputs": [
    {
     "data": {
      "text/plain": [
       "array([[ 138.47 ,   51.655,   97.827, ...,    1.24 ,   -2.475,  113.497],\n",
       "       [ 160.937,   68.768,  103.235, ..., -999.   , -999.   ,   46.226],\n",
       "       [-999.   ,  162.172,  125.953, ..., -999.   , -999.   ,   44.251],\n",
       "       ...,\n",
       "       [ 105.457,   60.526,   75.839, ..., -999.   , -999.   ,   41.992],\n",
       "       [  94.951,   19.362,   68.812, ..., -999.   , -999.   ,    0.   ],\n",
       "       [-999.   ,   72.756,   70.831, ..., -999.   , -999.   ,    0.   ]])"
      ]
     },
     "execution_count": 52,
     "metadata": {},
     "output_type": "execute_result"
    }
   ],
   "source": [
    "tX"
   ]
  },
  {
   "cell_type": "code",
   "execution_count": 53,
   "metadata": {},
   "outputs": [
    {
     "data": {
      "text/plain": [
       "array([[ 138.47 ,   51.655,   97.827, ...,    1.24 ,   -2.475,  113.497],\n",
       "       [ 160.937,   68.768,  103.235, ..., -999.   , -999.   ,   46.226],\n",
       "       [-999.   ,  162.172,  125.953, ..., -999.   , -999.   ,   44.251],\n",
       "       ...,\n",
       "       [ 105.457,   60.526,   75.839, ..., -999.   , -999.   ,   41.992],\n",
       "       [  94.951,   19.362,   68.812, ..., -999.   , -999.   ,    0.   ],\n",
       "       [-999.   ,   72.756,   70.831, ..., -999.   , -999.   ,    0.   ]])"
      ]
     },
     "execution_count": 53,
     "metadata": {},
     "output_type": "execute_result"
    }
   ],
   "source": [
    "tX"
   ]
  },
  {
   "cell_type": "code",
   "execution_count": 54,
   "metadata": {},
   "outputs": [
    {
     "data": {
      "text/plain": [
       "array([[138.47 ,  51.655,  97.827, ...,   1.24 ,  -2.475, 113.497],\n",
       "       [160.937,  68.768, 103.235, ...,     nan,     nan,  46.226],\n",
       "       [    nan, 162.172, 125.953, ...,     nan,     nan,  44.251],\n",
       "       ...,\n",
       "       [105.457,  60.526,  75.839, ...,     nan,     nan,  41.992],\n",
       "       [ 94.951,  19.362,  68.812, ...,     nan,     nan,   0.   ],\n",
       "       [    nan,  72.756,  70.831, ...,     nan,     nan,   0.   ]])"
      ]
     },
     "execution_count": 54,
     "metadata": {},
     "output_type": "execute_result"
    }
   ],
   "source": [
    "#replace -999 with nan\n",
    "tX = replace_999_with_nan(tX)\n",
    "tX"
   ]
  },
  {
   "cell_type": "code",
   "execution_count": 56,
   "metadata": {},
   "outputs": [],
   "source": [
    "#substract mean and divide by std, replace Nans with mean\n",
    "tX = normalize(tX)"
   ]
  },
  {
   "cell_type": "code",
   "execution_count": 57,
   "metadata": {},
   "outputs": [],
   "source": [
    "#Split data according to ration\n",
    "x_train, y_train, x_test, y_test = split_data(tX, y, 0.8, seed=1)"
   ]
  },
  {
   "cell_type": "code",
   "execution_count": 58,
   "metadata": {},
   "outputs": [
    {
     "data": {
      "text/plain": [
       "False"
      ]
     },
     "execution_count": 58,
     "metadata": {},
     "output_type": "execute_result"
    }
   ],
   "source": [
    "#Make sure there is no nans\n",
    "np.isnan(tX).any()"
   ]
  },
  {
   "cell_type": "code",
   "execution_count": 59,
   "metadata": {},
   "outputs": [],
   "source": [
    "# Append y values as column to later divide y into buckets corresponding with x values\n",
    "train = np.column_stack((x_train, y_train))"
   ]
  },
  {
   "cell_type": "code",
   "execution_count": 60,
   "metadata": {},
   "outputs": [],
   "source": [
    "# Split training x into buckets\n",
    "buckets = get_buckets(train)"
   ]
  },
  {
   "cell_type": "code",
   "execution_count": 61,
   "metadata": {},
   "outputs": [],
   "source": [
    "initial_weights = np.zeros(x_train.shape[1])"
   ]
  },
  {
   "cell_type": "code",
   "execution_count": null,
   "metadata": {},
   "outputs": [],
   "source": [
    "# Least squares\n",
    "#w , loss = least_squares(y_train,x_train)\n",
    "\n",
    "# Least squares GD\n",
    "#w , loss = least_squares_GD(y_train,x_train,initial_weights,200,0.01)\n",
    "\n",
    "# Least squares SGD\n",
    "#w, loss = least_squares_SGD(y_train,x_train,initial_weights,200,0.01)\n",
    "\n",
    "# Ridge regression\n",
    "w,loss = ridge_regression(y_train,x_train,0.0001)\n",
    "\n",
    "# Logistic regression\n",
    "#w,loss = logistic_regression(y_train,x_train,initial_weights,400,0.0001)\n",
    "\n",
    "# reg logistic regression\n",
    "#w,loss = reg_logistic_regression(y_train,x_train,0.001,initial_weights,100,0.0001)"
   ]
  },
  {
   "cell_type": "code",
   "execution_count": null,
   "metadata": {},
   "outputs": [],
   "source": [
    "w"
   ]
  },
  {
   "cell_type": "markdown",
   "metadata": {},
   "source": [
    "## Do your thing crazy machine learning thing here :) ..."
   ]
  },
  {
   "cell_type": "markdown",
   "metadata": {},
   "source": [
    "## Generate predictions and save ouput in csv format for submission:"
   ]
  },
  {
   "cell_type": "code",
   "execution_count": null,
   "metadata": {},
   "outputs": [],
   "source": [
    "DATA_TEST_PATH = '../data/test.csv' # TODO: download train data and supply path here \n",
    "_, tX_test, ids_test = load_csv_data(DATA_TEST_PATH)"
   ]
  },
  {
   "cell_type": "code",
   "execution_count": null,
   "metadata": {},
   "outputs": [],
   "source": [
    "weights = w\n",
    "weights.shape"
   ]
  },
  {
   "cell_type": "code",
   "execution_count": null,
   "metadata": {},
   "outputs": [],
   "source": [
    "OUTPUT_PATH = '../data/sub.csv' # TODO: fill in desired name of output file for submission\n",
    "y_pred = predict_labels(weights, tX_test)\n",
    "create_csv_submission(ids_test, y_pred, OUTPUT_PATH)"
   ]
  },
  {
   "cell_type": "markdown",
   "metadata": {},
   "source": [
    "# Computing score on validation set"
   ]
  },
  {
   "cell_type": "code",
   "execution_count": null,
   "metadata": {},
   "outputs": [],
   "source": [
    "weights = w\n",
    "y_pred = predict_labels(weights,x_test)"
   ]
  },
  {
   "cell_type": "code",
   "execution_count": null,
   "metadata": {},
   "outputs": [],
   "source": [
    "w"
   ]
  },
  {
   "cell_type": "code",
   "execution_count": null,
   "metadata": {},
   "outputs": [],
   "source": [
    "# Compute accuracy \n",
    "true_positive = 0\n",
    "false_positive = 0 \n",
    "true_negative = 0\n",
    "false_negative = 0\n",
    "\n",
    "testing_length = y_test.shape[0]\n",
    "for i in range(testing_length):      \n",
    "    if (y_test[i] == y_pred[i]) and (y_pred[i]==1):        \n",
    "        true_positive += 1\n",
    "    if (y_test[i] == y_pred[i]) and (y_pred[i]==-1):\n",
    "        true_negative +=1        \n",
    "    if (y_test[i] != y_pred[i]) and (y_pred[i]==-1):    \n",
    "        false_negative += 1\n",
    "    if (y_test[i] != y_pred[i]) and (y_pred[i]==1):\n",
    "        false_positive +=1\n",
    "        \n",
    "        \n",
    "precision = true_positive/float(true_positive+false_positive)\n",
    "recall =true_positive/float(true_positive + false_negative)\n",
    "F=2 *(precision*recall)/float(precision+recall)        \n",
    "    \n",
    "\n",
    "print('Train accuracy: ',  ((true_positive+true_negative)/float(testing_length))*100.0)\n",
    "print(\"precision : \", precision)\n",
    "print(\"recall : \",recall)\n",
    "print(\"F1 score : \",F)\n",
    "\n",
    "        "
   ]
  },
  {
   "cell_type": "code",
   "execution_count": 62,
   "metadata": {},
   "outputs": [],
   "source": [
    "def cross_validation_visualization(lambds, mse_tr, mse_te):\n",
    "    \"\"\"visualization the curves of mse_tr and mse_te.\"\"\"\n",
    "    plt.semilogx(lambds, mse_tr, marker=\".\", color='b', label='train error')\n",
    "    plt.semilogx(lambds, mse_te, marker=\".\", color='r', label='test error')\n",
    "    plt.xlabel(\"lambda\")\n",
    "    plt.ylabel(\"rmse\")\n",
    "    plt.title(\"cross validation\")\n",
    "    plt.legend(loc=2)\n",
    "    plt.grid(True)\n",
    "    plt.savefig(\"cross_validation\")"
   ]
  },
  {
   "cell_type": "code",
   "execution_count": 63,
   "metadata": {},
   "outputs": [],
   "source": [
    "from implementations import cross_validation\n",
    "def cross_validation_demo():\n",
    "    seed = 50\n",
    "    degree = 0\n",
    "    k_fold = 10\n",
    "    lambdas = np.logspace(-4, 0, 30)\n",
    "    # split data in k fold\n",
    "    k_indices = build_k_indices(y, k_fold, seed)\n",
    "    # define lists to store the loss of training data and test data\n",
    "    rmse_tr = []\n",
    "    rmse_te = []\n",
    "    # cross validation\n",
    "    for lambda_ in lambdas:\n",
    "        print(\"gamma\",lambda_)\n",
    "        rmse_tr_tmp = []\n",
    "        rmse_te_tmp = []\n",
    "        for k in range(k_fold):\n",
    "            loss_tr, loss_te,_ = cross_validation(y, tX, k_indices, k, lambda_, degree)\n",
    "            rmse_tr_tmp.append(loss_tr)\n",
    "            rmse_te_tmp.append(loss_te)\n",
    "            \n",
    "        print(np.mean(rmse_tr_tmp))\n",
    "        rmse_tr.append(np.mean(rmse_tr_tmp))\n",
    "        rmse_te.append(np.mean(rmse_te_tmp))\n",
    "\n",
    "    cross_validation_visualization(lambdas, rmse_tr, rmse_te)\n"
   ]
  },
  {
   "cell_type": "code",
   "execution_count": 64,
   "metadata": {},
   "outputs": [
    {
     "name": "stdout",
     "output_type": "stream",
     "text": [
      "gamma 0.0001\n",
      "0.9951831806978536\n",
      "gamma 0.00013738237958832623\n",
      "0.99343932833901\n",
      "gamma 0.00018873918221350977\n",
      "0.9910917754235818\n",
      "gamma 0.0002592943797404667\n",
      "0.987954311660066\n",
      "gamma 0.0003562247890262444\n",
      "0.9838013807696389\n",
      "gamma 0.0004893900918477494\n",
      "0.9783737812872273\n",
      "gamma 0.0006723357536499335\n",
      "0.9713967806433921\n",
      "gamma 0.0009236708571873865\n",
      "0.9626166753833569\n",
      "gamma 0.0012689610031679222\n",
      "0.9518606930877305\n",
      "gamma 0.0017433288221999873\n",
      "0.9391217481316234\n",
      "gamma 0.002395026619987486\n",
      "0.9246647950030426\n",
      "gamma 0.0032903445623126675\n",
      "0.9091410027223941\n",
      "gamma 0.004520353656360241\n",
      "0.8936558486515697\n",
      "gamma 0.006210169418915616\n",
      "0.8796499568125737\n",
      "gamma 0.008531678524172805\n",
      "0.8684346244503356\n",
      "gamma 0.011721022975334805\n",
      "0.8605218608839056\n",
      "gamma 0.01610262027560939\n",
      "0.8553296044445948\n",
      "gamma 0.02212216291070448\n",
      "0.8516593964291527\n",
      "gamma 0.03039195382313198\n",
      "0.8484942464010494\n",
      "gamma 0.041753189365604\n",
      "0.8453687696109599\n",
      "gamma 0.05736152510448681\n",
      "0.8422308129001767\n",
      "gamma 0.07880462815669913\n",
      "0.839197789286693\n",
      "gamma 0.1082636733874054\n",
      "0.836426423227856\n",
      "gamma 0.14873521072935117\n",
      "0.8340588401038975\n",
      "gamma 0.20433597178569418\n",
      "0.8321925316017834\n",
      "gamma 0.2807216203941176\n",
      "0.8308657288148679\n",
      "gamma 0.38566204211634725\n",
      "70137088385319.45\n",
      "gamma 0.5298316906283708\n",
      "2.1310394361714026e+35\n",
      "gamma 0.7278953843983146\n",
      "9.354529194535534e+53\n",
      "gamma 1.0\n",
      "9.594656743172703e+70\n"
     ]
    },
    {
     "data": {
      "image/png": "[encoded data removed]",
      "text/plain": [
       "<Figure size 432x288 with 1 Axes>"
      ]
     },
     "metadata": {
      "needs_background": "light"
     },
     "output_type": "display_data"
    }
   ],
   "source": [
    "cross_validation_demo()"
   ]
  },
  {
   "cell_type": "code",
   "execution_count": null,
   "metadata": {},
   "outputs": [],
   "source": []
  }
 ],
 "metadata": {
  "anaconda-cloud": {},
  "kernelspec": {
   "display_name": "Python 3",
   "language": "python",
   "name": "python3"
  },
  "language_info": {
   "codemirror_mode": {
    "name": "ipython",
    "version": 3
   },
   "file_extension": ".py",
   "mimetype": "text/x-python",
   "name": "python",
   "nbconvert_exporter": "python",
   "pygments_lexer": "ipython3",
   "version": "3.7.4"
  }
 },
 "nbformat": 4,
 "nbformat_minor": 4
}
