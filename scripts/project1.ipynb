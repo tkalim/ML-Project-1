{
 "cells": [
  {
   "cell_type": "code",
   "execution_count": 124,
   "metadata": {},
   "outputs": [
    {
     "name": "stdout",
     "output_type": "stream",
     "text": [
      "The autoreload extension is already loaded. To reload it, use:\n",
      "  %reload_ext autoreload\n"
     ]
    }
   ],
   "source": [
    "# Useful starting lines\n",
    "%matplotlib inline\n",
    "import numpy as np\n",
    "import matplotlib.pyplot as plt\n",
    "#just for the notebook\n",
    "%run implementations\n",
    "%load_ext autoreload\n",
    "%autoreload 2"
   ]
  },
  {
   "cell_type": "markdown",
   "metadata": {},
   "source": [
    "## Load the training data into feature matrix, class labels, and event ids:"
   ]
  },
  {
   "cell_type": "code",
   "execution_count": 125,
   "metadata": {},
   "outputs": [],
   "source": [
    "from proj1_helpers import *\n",
    "DATA_TRAIN_PATH = '../data/train.csv' \n",
    "y, tX, ids = load_csv_data(DATA_TRAIN_PATH)\n"
   ]
  },
  {
   "cell_type": "code",
   "execution_count": 126,
   "metadata": {},
   "outputs": [
    {
     "data": {
      "text/plain": [
       "array([[ 138.47 ,   51.655,   97.827, ...,    1.24 ,   -2.475,  113.497],\n",
       "       [ 160.937,   68.768,  103.235, ..., -999.   , -999.   ,   46.226],\n",
       "       [-999.   ,  162.172,  125.953, ..., -999.   , -999.   ,   44.251],\n",
       "       ...,\n",
       "       [ 105.457,   60.526,   75.839, ..., -999.   , -999.   ,   41.992],\n",
       "       [  94.951,   19.362,   68.812, ..., -999.   , -999.   ,    0.   ],\n",
       "       [-999.   ,   72.756,   70.831, ..., -999.   , -999.   ,    0.   ]])"
      ]
     },
     "execution_count": 126,
     "metadata": {},
     "output_type": "execute_result"
    }
   ],
   "source": [
    "tX"
   ]
  },
  {
   "cell_type": "code",
   "execution_count": 127,
   "metadata": {},
   "outputs": [
    {
     "data": {
      "text/plain": [
       "array([[ 138.47 ,   51.655,   97.827, ...,    1.24 ,   -2.475,  113.497],\n",
       "       [ 160.937,   68.768,  103.235, ..., -999.   , -999.   ,   46.226],\n",
       "       [-999.   ,  162.172,  125.953, ..., -999.   , -999.   ,   44.251],\n",
       "       ...,\n",
       "       [ 105.457,   60.526,   75.839, ..., -999.   , -999.   ,   41.992],\n",
       "       [  94.951,   19.362,   68.812, ..., -999.   , -999.   ,    0.   ],\n",
       "       [-999.   ,   72.756,   70.831, ..., -999.   , -999.   ,    0.   ]])"
      ]
     },
     "execution_count": 127,
     "metadata": {},
     "output_type": "execute_result"
    }
   ],
   "source": [
    "tX"
   ]
  },
  {
   "cell_type": "code",
   "execution_count": 128,
   "metadata": {},
   "outputs": [
    {
     "data": {
      "text/plain": [
       "array([[138.47 ,  51.655,  97.827, ...,   1.24 ,  -2.475, 113.497],\n",
       "       [160.937,  68.768, 103.235, ...,     nan,     nan,  46.226],\n",
       "       [    nan, 162.172, 125.953, ...,     nan,     nan,  44.251],\n",
       "       ...,\n",
       "       [105.457,  60.526,  75.839, ...,     nan,     nan,  41.992],\n",
       "       [ 94.951,  19.362,  68.812, ...,     nan,     nan,   0.   ],\n",
       "       [    nan,  72.756,  70.831, ...,     nan,     nan,   0.   ]])"
      ]
     },
     "execution_count": 128,
     "metadata": {},
     "output_type": "execute_result"
    }
   ],
   "source": [
    "#replace -999 with nan\n",
    "tX = replace_999_with_nan(tX)\n",
    "tX"
   ]
  },
  {
   "cell_type": "code",
   "execution_count": 129,
   "metadata": {},
   "outputs": [],
   "source": [
    "#substract mean and divide by std, replace Nans with mean\n",
    "tX = normalize(tX)"
   ]
  },
  {
   "cell_type": "code",
   "execution_count": 130,
   "metadata": {},
   "outputs": [],
   "source": [
    "#Split data according to ration\n",
    "x_train, y_train, x_test, y_test = split_data(tX, y, 0.8, seed=1)"
   ]
  },
  {
   "cell_type": "code",
   "execution_count": 131,
   "metadata": {},
   "outputs": [
    {
     "data": {
      "text/plain": [
       "False"
      ]
     },
     "execution_count": 131,
     "metadata": {},
     "output_type": "execute_result"
    }
   ],
   "source": [
    "#Make sure there is no nans\n",
    "np.isnan(tX).any()"
   ]
  },
  {
   "cell_type": "code",
   "execution_count": 132,
   "metadata": {},
   "outputs": [],
   "source": [
    "# Append y values as column to later divide y into buckets corresponding with x values\n",
    "train = np.column_stack((x_train, y_train))"
   ]
  },
  {
   "cell_type": "code",
   "execution_count": 133,
   "metadata": {},
   "outputs": [],
   "source": [
    "# Split training x into buckets\n",
    "buckets = get_buckets(train)"
   ]
  },
  {
   "cell_type": "code",
   "execution_count": 134,
   "metadata": {},
   "outputs": [],
   "source": [
    "initial_weights = np.zeros(x_train.shape[1])"
   ]
  },
  {
   "cell_type": "code",
   "execution_count": 135,
   "metadata": {},
   "outputs": [],
   "source": [
    "from implementations import ridge_regression\n",
    "# Least squares\n",
    "#w , loss = least_squares(y_train,x_train)\n",
    "\n",
    "# Least squares GD\n",
    "#w , loss = least_squares_GD(y_train,x_train,initial_weights,200,0.01)\n",
    "\n",
    "# Least squares SGD\n",
    "#w, loss = least_squares_SGD(y_train,x_train,initial_weights,200,0.01)\n",
    "\n",
    "# Ridge regression\n",
    "w,loss = ridge_regression(y_train,x_train,0.0001)\n",
    "\n",
    "# Logistic regression\n",
    "#w,loss = logistic_regression(y_train,x_train,initial_weights,400,0.0001)\n",
    "\n",
    "# reg logistic regression\n",
    "#w,loss = reg_logistic_regression(y_train,x_train,0.001,initial_weights,100,0.0001)"
   ]
  },
  {
   "cell_type": "code",
   "execution_count": 136,
   "metadata": {},
   "outputs": [
    {
     "data": {
      "text/plain": [
       "array([ 1.80848312e-02, -2.49250139e-01, -2.59649908e-01,  3.39068041e-02,\n",
       "        3.21115481e-02,  2.50253502e-01,  3.61473647e-02,  2.74732434e-01,\n",
       "       -3.99510317e-02, -1.46193202e+01, -1.86328843e-01,  1.25672018e-01,\n",
       "        1.24077113e-01,  3.01051373e+00,  2.15686335e-04, -1.21489760e-03,\n",
       "        3.06761247e+00, -6.39789968e-04,  2.86354808e-03,  9.30357882e-02,\n",
       "        3.49378807e-04, -4.27363662e-02, -3.41691550e-01, -4.31452996e-01,\n",
       "       -4.67750255e-04,  4.47019613e-04, -2.56593624e-01,  3.43277086e-03,\n",
       "       -3.82909553e-03,  1.29493347e+01])"
      ]
     },
     "execution_count": 136,
     "metadata": {},
     "output_type": "execute_result"
    }
   ],
   "source": [
    "w"
   ]
  },
  {
   "cell_type": "markdown",
   "metadata": {},
   "source": [
    "## Do your thing crazy machine learning thing here :) ..."
   ]
  },
  {
   "cell_type": "markdown",
   "metadata": {},
   "source": [
    "## Generate predictions and save ouput in csv format for submission:"
   ]
  },
  {
   "cell_type": "code",
   "execution_count": 103,
   "metadata": {},
   "outputs": [],
   "source": [
    "DATA_TEST_PATH = '../data/test.csv' # TODO: download train data and supply path here \n",
    "_, tX_test, ids_test = load_csv_data(DATA_TEST_PATH)"
   ]
  },
  {
   "cell_type": "code",
   "execution_count": 114,
   "metadata": {},
   "outputs": [
    {
     "data": {
      "text/plain": [
       "(30,)"
      ]
     },
     "execution_count": 114,
     "metadata": {},
     "output_type": "execute_result"
    }
   ],
   "source": [
    "weights = w\n",
    "weights.shape"
   ]
  },
  {
   "cell_type": "code",
   "execution_count": 115,
   "metadata": {},
   "outputs": [],
   "source": [
    "OUTPUT_PATH = '../data/sub.csv' # TODO: fill in desired name of output file for submission\n",
    "y_pred = predict_labels(weights, tX_test)\n",
    "create_csv_submission(ids_test, y_pred, OUTPUT_PATH)"
   ]
  },
  {
   "cell_type": "markdown",
   "metadata": {},
   "source": [
    "# Computing score on validation set"
   ]
  },
  {
   "cell_type": "code",
   "execution_count": 137,
   "metadata": {},
   "outputs": [],
   "source": [
    "weights = w\n",
    "y_pred = predict_labels(weights,x_test)"
   ]
  },
  {
   "cell_type": "code",
   "execution_count": 138,
   "metadata": {},
   "outputs": [
    {
     "data": {
      "text/plain": [
       "array([ 1.80848312e-02, -2.49250139e-01, -2.59649908e-01,  3.39068041e-02,\n",
       "        3.21115481e-02,  2.50253502e-01,  3.61473647e-02,  2.74732434e-01,\n",
       "       -3.99510317e-02, -1.46193202e+01, -1.86328843e-01,  1.25672018e-01,\n",
       "        1.24077113e-01,  3.01051373e+00,  2.15686335e-04, -1.21489760e-03,\n",
       "        3.06761247e+00, -6.39789968e-04,  2.86354808e-03,  9.30357882e-02,\n",
       "        3.49378807e-04, -4.27363662e-02, -3.41691550e-01, -4.31452996e-01,\n",
       "       -4.67750255e-04,  4.47019613e-04, -2.56593624e-01,  3.43277086e-03,\n",
       "       -3.82909553e-03,  1.29493347e+01])"
      ]
     },
     "execution_count": 138,
     "metadata": {},
     "output_type": "execute_result"
    }
   ],
   "source": [
    "w"
   ]
  },
  {
   "cell_type": "code",
   "execution_count": 139,
   "metadata": {},
   "outputs": [
    {
     "name": "stdout",
     "output_type": "stream",
     "text": [
      "Train accuracy:  74.506\n",
      "precision :  0.6651440359537317\n",
      "recall :  0.5239698200812536\n",
      "F1 score :  0.5861766711034638\n"
     ]
    }
   ],
   "source": [
    "# Compute accuracy \n",
    "true_positive = 0\n",
    "false_positive = 0 \n",
    "true_negative = 0\n",
    "false_negative = 0\n",
    "\n",
    "testing_length = y_test.shape[0]\n",
    "for i in range(testing_length):      \n",
    "    if (y_test[i] == y_pred[i]) and (y_pred[i]==1):        \n",
    "        true_positive += 1\n",
    "    if (y_test[i] == y_pred[i]) and (y_pred[i]==-1):\n",
    "        true_negative +=1        \n",
    "    if (y_test[i] != y_pred[i]) and (y_pred[i]==-1):    \n",
    "        false_negative += 1\n",
    "    if (y_test[i] != y_pred[i]) and (y_pred[i]==1):\n",
    "        false_positive +=1\n",
    "        \n",
    "        \n",
    "precision = true_positive/float(true_positive+false_positive)\n",
    "recall =true_positive/float(true_positive + false_negative)\n",
    "F=2 *(precision*recall)/float(precision+recall)        \n",
    "    \n",
    "\n",
    "print('Train accuracy: ',  ((true_positive+true_negative)/float(testing_length))*100.0)\n",
    "print(\"precision : \", precision)\n",
    "print(\"recall : \",recall)\n",
    "print(\"F1 score : \",F)\n",
    "\n",
    "        "
   ]
  },
  {
   "cell_type": "code",
   "execution_count": 140,
   "metadata": {},
   "outputs": [],
   "source": [
    "def cross_validation_visualization(lambds, mse_tr, mse_te):\n",
    "    \"\"\"visualization the curves of mse_tr and mse_te.\"\"\"\n",
    "    plt.semilogx(lambds, mse_tr, marker=\".\", color='b', label='train error')\n",
    "    plt.semilogx(lambds, mse_te, marker=\".\", color='r', label='test error')\n",
    "    plt.xlabel(\"lambda\")\n",
    "    plt.ylabel(\"rmse\")\n",
    "    plt.title(\"cross validation\")\n",
    "    plt.legend(loc=2)\n",
    "    plt.grid(True)\n",
    "    plt.savefig(\"cross_validation\")"
   ]
  },
  {
   "cell_type": "code",
   "execution_count": 141,
   "metadata": {},
   "outputs": [],
   "source": [
    "def cross_validation_demo():\n",
    "    seed = 12\n",
    "    degree = 1\n",
    "    k_fold = 5\n",
    "    lambdas = np.logspace(-4, 0, 30)\n",
    "    # split data in k fold\n",
    "    k_indices = build_k_indices(y, k_fold, seed)\n",
    "    # define lists to store the loss of training data and test data\n",
    "    rmse_tr = []\n",
    "    rmse_te = []\n",
    "    # cross validation\n",
    "    for lambda_ in lambdas:\n",
    "        print(\"lambda\",lambda_)\n",
    "        rmse_tr_tmp = []\n",
    "        rmse_te_tmp = []\n",
    "        for k in range(k_fold):\n",
    "            loss_tr, loss_te,_ = cross_validation(y, tX, k_indices, k, lambda_, degree)\n",
    "            rmse_tr_tmp.append(loss_tr)\n",
    "            rmse_te_tmp.append(loss_te)\n",
    "        rmse_tr.append(np.mean(rmse_tr_tmp))\n",
    "        rmse_te.append(np.mean(rmse_te_tmp))\n",
    "\n",
    "    cross_validation_visualization(lambdas, rmse_tr, rmse_te)\n"
   ]
  },
  {
   "cell_type": "code",
   "execution_count": 142,
   "metadata": {},
   "outputs": [
    {
     "name": "stdout",
     "output_type": "stream",
     "text": [
      "lambda 0.0001\n",
      "lambda 0.00013738237958832623\n",
      "lambda 0.00018873918221350977\n",
      "lambda 0.0002592943797404667\n",
      "lambda 0.0003562247890262444\n",
      "lambda 0.0004893900918477494\n",
      "lambda 0.0006723357536499335\n",
      "lambda 0.0009236708571873865\n",
      "lambda 0.0012689610031679222\n",
      "lambda 0.0017433288221999873\n",
      "lambda 0.002395026619987486\n",
      "lambda 0.0032903445623126675\n",
      "lambda 0.004520353656360241\n",
      "lambda 0.006210169418915616\n",
      "lambda 0.008531678524172805\n",
      "lambda 0.011721022975334805\n",
      "lambda 0.01610262027560939\n",
      "lambda 0.02212216291070448\n",
      "lambda 0.03039195382313198\n",
      "lambda 0.041753189365604\n",
      "lambda 0.05736152510448681\n",
      "lambda 0.07880462815669913\n",
      "lambda 0.1082636733874054\n",
      "lambda 0.14873521072935117\n",
      "lambda 0.20433597178569418\n",
      "lambda 0.2807216203941176\n",
      "lambda 0.38566204211634725\n",
      "lambda 0.5298316906283708\n",
      "lambda 0.7278953843983146\n",
      "lambda 1.0\n"
     ]
    },
    {
     "data": {
      "image/png": "[encoded data removed]",
      "text/plain": [
       "<Figure size 432x288 with 1 Axes>"
      ]
     },
     "metadata": {
      "needs_background": "light"
     },
     "output_type": "display_data"
    }
   ],
   "source": [
    "cross_validation_demo()"
   ]
  },
  {
   "cell_type": "code",
   "execution_count": null,
   "metadata": {},
   "outputs": [],
   "source": []
  }
 ],
 "metadata": {
  "anaconda-cloud": {},
  "kernelspec": {
   "display_name": "Python 3",
   "language": "python",
   "name": "python3"
  },
  "language_info": {
   "codemirror_mode": {
    "name": "ipython",
    "version": 3
   },
   "file_extension": ".py",
   "mimetype": "text/x-python",
   "name": "python",
   "nbconvert_exporter": "python",
   "pygments_lexer": "ipython3",
   "version": "3.7.4"
  }
 },
 "nbformat": 4,
 "nbformat_minor": 4
}
