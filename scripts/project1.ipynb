{
 "cells": [
  {
   "cell_type": "code",
   "execution_count": 1,
   "metadata": {},
   "outputs": [],
   "source": [
    "# Useful starting lines\n",
    "%matplotlib inline\n",
    "import numpy as np\n",
    "import matplotlib.pyplot as plt\n",
    "#just for the notebook\n",
    "%run implementations\n",
    "%load_ext autoreload\n",
    "%autoreload 2"
   ]
  },
  {
   "cell_type": "markdown",
   "metadata": {},
   "source": [
    "## Load the training data into feature matrix, class labels, and event ids:"
   ]
  },
  {
   "cell_type": "code",
   "execution_count": 2,
   "metadata": {},
   "outputs": [],
   "source": [
    "from proj1_helpers import *\n",
    "DATA_TRAIN_PATH = '../data/train.csv' # TODO: download train data and supply path here \n",
    "DATA_TEST_PATH = '../data/test.csv'\n",
    "y, tX, train_ids = load_csv_data(DATA_TRAIN_PATH)\n",
    "subsmission_y, submission_x, test_ids = load_csv_data(DATA_TEST_PATH)"
   ]
  },
  {
   "cell_type": "code",
   "execution_count": 3,
   "metadata": {},
   "outputs": [
    {
     "data": {
      "text/plain": [
       "(250000, 30)"
      ]
     },
     "execution_count": 3,
     "metadata": {},
     "output_type": "execute_result"
    }
   ],
   "source": [
    "tX.shape"
   ]
  },
  {
   "cell_type": "code",
   "execution_count": 4,
   "metadata": {},
   "outputs": [],
   "source": [
    "DEGREE = 3"
   ]
  },
  {
   "cell_type": "code",
   "execution_count": 5,
   "metadata": {},
   "outputs": [],
   "source": [
    "x_train, y_train, x_test, y_test = split_data(tX, y, 0.8, seed=1)"
   ]
  },
  {
   "cell_type": "code",
   "execution_count": 6,
   "metadata": {},
   "outputs": [],
   "source": [
    "# Append y values as column to later divide y into buckets corresponding with x values\n",
    "x_train = np.column_stack((x_train, y_train))\n",
    "x_test = np.column_stack((x_test, y_test))"
   ]
  },
  {
   "cell_type": "code",
   "execution_count": 7,
   "metadata": {},
   "outputs": [],
   "source": [
    "# get all the needed buckets\n",
    "buckets = get_buckets(x_train)\n",
    "# y\n",
    "y_buckets = []\n",
    "for i in range(len(buckets)):\n",
    "    y_buckets.append(buckets[i][:, -1])\n",
    "    buckets[i] = np.delete(buckets[i], -1, 1)\n",
    "# test\n",
    "test_buckets = get_buckets(x_test)\n",
    "submission_x_buckets = get_buckets(submission_x.copy())\n",
    "# test y\n",
    "test_y_buckets = []\n",
    "for i in range(len(test_buckets)):\n",
    "    test_y_buckets.append(test_buckets[i][:, -1])\n",
    "    test_buckets[i] = np.delete(test_buckets[i], -1, 1)"
   ]
  },
  {
   "cell_type": "code",
   "execution_count": 8,
   "metadata": {},
   "outputs": [],
   "source": [
    "# Normalize the matrices\n",
    "for i in range(len(buckets)):\n",
    "    buckets[i] = normalize(buckets[i])\n",
    "    test_buckets[i] = normalize(test_buckets[i])\n",
    "    submission_x_buckets[i] = normalize(submission_x_buckets[i])"
   ]
  },
  {
   "cell_type": "code",
   "execution_count": 9,
   "metadata": {},
   "outputs": [],
   "source": [
    "# Add Intercept\n",
    "for i in range(len(buckets)):\n",
    "    buckets[i] = np.column_stack((np.ones((buckets[i].shape[0], 1)), buckets[i]))\n",
    "    test_buckets[i] = np.column_stack((np.ones((test_buckets[i].shape[0], 1)), test_buckets[i]))\n",
    "    submission_x_buckets[i] = np.column_stack((np.ones((submission_x_buckets[i].shape[0], 1)),\n",
    "                                              submission_x_buckets[i]))"
   ]
  },
  {
   "cell_type": "code",
   "execution_count": 10,
   "metadata": {},
   "outputs": [],
   "source": [
    "def accuracy(train_buckets, test_buckets, test_y_buckets, weights, degree_and_lambda):\n",
    "    correct_predictions = 0\n",
    "    len_data = 0\n",
    "    for i in range(len(train_buckets)):\n",
    "        degree = degree_and_lambda[i][\"degree\"]\n",
    "        rr_accuracy = compute_accuracy(weights[i], build_poly(test_buckets[i], degree), test_y_buckets[i])\n",
    "        correct_predictions += (rr_accuracy * len(build_poly(test_buckets[i], degree)))\n",
    "        len_data += len(build_poly(test_buckets[i], degree))\n",
    "    total_accuracy = correct_predictions / len_data\n",
    "    print(f\"Accuracy = {total_accuracy}\")\n",
    "    return total_accuracy"
   ]
  },
  {
   "cell_type": "code",
   "execution_count": 11,
   "metadata": {},
   "outputs": [
    {
     "data": {
      "text/plain": [
       "14738"
      ]
     },
     "execution_count": 11,
     "metadata": {},
     "output_type": "execute_result"
    }
   ],
   "source": [
    "len(test_buckets[0])"
   ]
  },
  {
   "cell_type": "code",
   "execution_count": null,
   "metadata": {},
   "outputs": [
    {
     "name": "stdout",
     "output_type": "stream",
     "text": [
      "best lambdas : 1.0\n",
      "best degree 9\n",
      "best lambdas : 1.0\n",
      "best degree 9\n",
      "best lambdas : 1.0\n",
      "best degree 9\n",
      "best lambdas : 1.0\n",
      "best degree 9\n",
      "best lambdas : 1.0\n",
      "best degree 9\n",
      "best lambdas : 1.0\n",
      "best degree 9\n",
      "best lambdas : 0.1\n",
      "best degree 9\n"
     ]
    }
   ],
   "source": [
    "best_degree_lambda = []\n",
    "for i in range(len(buckets)):\n",
    "    best_degree_lambda.append(best_degree_selection(y=y_buckets[i], x=buckets[i], degrees=[9], \n",
    "                      k_fold=5, lambdas=np.linspace(0.1, 1, 10)))"
   ]
  },
  {
   "cell_type": "code",
   "execution_count": 14,
   "metadata": {},
   "outputs": [
    {
     "data": {
      "text/plain": [
       "[{'degree': 11, 'lambda': 0.0001},\n",
       " {'degree': 11, 'lambda': 0.0001},\n",
       " {'degree': 11, 'lambda': 0.0001},\n",
       " {'degree': 11, 'lambda': 0.0001},\n",
       " {'degree': 11, 'lambda': 0.0001},\n",
       " {'degree': 11, 'lambda': 0.0001},\n",
       " {'degree': 11, 'lambda': 0.0001},\n",
       " {'degree': 11, 'lambda': 0.0001}]"
      ]
     },
     "execution_count": 14,
     "metadata": {},
     "output_type": "execute_result"
    }
   ],
   "source": [
    "best_degree_lambda"
   ]
  },
  {
   "cell_type": "code",
   "execution_count": 15,
   "metadata": {},
   "outputs": [
    {
     "name": "stdout",
     "output_type": "stream",
     "text": [
      "(341,)\n",
      "(341,)\n",
      "(341,)\n",
      "(341,)\n",
      "(341,)\n",
      "(341,)\n",
      "(341,)\n",
      "(341,)\n"
     ]
    }
   ],
   "source": [
    "weights = []\n",
    "for i in range(len(buckets)):\n",
    "    degree = best_degree_lambda[i][\"degree\"]\n",
    "    lambda_ = best_degree_lambda[i][\"lambda\"]\n",
    "    w_rr, loss_rr = ridge_regression(y=y_buckets[i], tx=build_poly(buckets[i], degree), lambda_=lambda_)\n",
    "    print(w_rr.shape)\n",
    "    weights.append(w_rr)"
   ]
  },
  {
   "cell_type": "code",
   "execution_count": null,
   "metadata": {},
   "outputs": [],
   "source": [
    "build_poly(test_buckets[0], 3).shape"
   ]
  },
  {
   "cell_type": "code",
   "execution_count": 16,
   "metadata": {},
   "outputs": [
    {
     "name": "stdout",
     "output_type": "stream",
     "text": [
      "Accuracy = 0.78582\n"
     ]
    }
   ],
   "source": [
    "acc = accuracy(train_buckets=buckets, test_buckets=test_buckets, test_y_buckets=test_y_buckets,\n",
    "                            weights=weights, degree_and_lambda=best_degree_lambda)"
   ]
  },
  {
   "cell_type": "code",
   "execution_count": null,
   "metadata": {},
   "outputs": [],
   "source": [
    "submission_y, submission_x, ids_test = load_csv_data(DATA_TEST_PATH, sub_sample=False)"
   ]
  },
  {
   "cell_type": "code",
   "execution_count": null,
   "metadata": {},
   "outputs": [],
   "source": [
    "ids_array = ids_test\n",
    "pri_jet_num_feature = submission_x[:, 22]\n",
    "der_mass_mmc_col_feature = submission_x[:, 0]\n",
    "ids_array = np.column_stack((ids_array, pri_jet_num_feature))\n",
    "ids_array = np.column_stack((ids_array, der_mass_mmc_col_feature))"
   ]
  },
  {
   "cell_type": "code",
   "execution_count": null,
   "metadata": {},
   "outputs": [],
   "source": [
    "id_buckets = get_id_buckets(ids_array)"
   ]
  },
  {
   "cell_type": "code",
   "execution_count": null,
   "metadata": {},
   "outputs": [],
   "source": [
    "submission = predict_labels(weights[0], build_poly(submission_x_buckets[0], best_degree_lambda[0][\"degree\"]))\n",
    "submission = np.column_stack((submission, id_buckets[0]))\n",
    "for i in range(1, len(weights)):\n",
    "    degree = best_degree_lambda[i][\"degree\"]\n",
    "    predictions = predict_labels(weights[i], build_poly(submission_x_buckets[i], degree))\n",
    "    predictions = np.column_stack((predictions, id_buckets[i]))\n",
    "    submission = np.concatenate((submission, predictions))"
   ]
  },
  {
   "cell_type": "code",
   "execution_count": null,
   "metadata": {},
   "outputs": [],
   "source": [
    "submission = submission[submission[:, 1].argsort()]\n",
    "submission = submission[:, 0]"
   ]
  },
  {
   "cell_type": "code",
   "execution_count": null,
   "metadata": {},
   "outputs": [],
   "source": [
    "create_csv_submission(ids_test, submission, \"../data/output.csv\")"
   ]
  },
  {
   "cell_type": "markdown",
   "metadata": {},
   "source": [
    "## Do your thing crazy machine learning thing here :) ..."
   ]
  },
  {
   "cell_type": "markdown",
   "metadata": {},
   "source": [
    "## Generate predictions and save ouput in csv format for submission:"
   ]
  },
  {
   "cell_type": "code",
   "execution_count": null,
   "metadata": {},
   "outputs": [],
   "source": [
    "DATA_TEST_PATH = '../data/test.csv' # TODO: download train data and supply path here \n",
    "_, tX_test, ids_test = load_csv_data(DATA_TEST_PATH)"
   ]
  },
  {
   "cell_type": "code",
   "execution_count": null,
   "metadata": {},
   "outputs": [],
   "source": [
    "OUTPUT_PATH = '../data/submission.csv' # TODO: fill in desired name of output file for submission\n",
    "y_pred = predict_labels(weights, tX_test)\n",
    "create_csv_submission(ids_test, y_pred, OUTPUT_PATH)"
   ]
  }
 ],
 "metadata": {
  "anaconda-cloud": {},
  "kernelspec": {
   "display_name": "Python 3",
   "language": "python",
   "name": "python3"
  },
  "language_info": {
   "codemirror_mode": {
    "name": "ipython",
    "version": 3
   },
   "file_extension": ".py",
   "mimetype": "text/x-python",
   "name": "python",
   "nbconvert_exporter": "python",
   "pygments_lexer": "ipython3",
   "version": "3.7.3"
  }
 },
 "nbformat": 4,
 "nbformat_minor": 1
}
